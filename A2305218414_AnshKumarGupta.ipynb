{
 "cells": [
  {
   "cell_type": "code",
   "execution_count": 20,
   "metadata": {},
   "outputs": [],
   "source": [
    "#Linear Search"
   ]
  },
  {
   "cell_type": "code",
   "execution_count": 9,
   "metadata": {},
   "outputs": [
    {
     "name": "stdout",
     "output_type": "stream",
     "text": [
      "Enter size of array: 5\n",
      "1\n",
      "2\n",
      "3\n",
      "4\n",
      "5\n",
      "Enter the element you want to search: 3\n",
      "Element found at position:  2\n"
     ]
    }
   ],
   "source": [
    "n = int(input(\"Enter size of array: \"))\n",
    "a=[]\n",
    "for i in range(n):\n",
    "    temp = int(input())\n",
    "    a.append(temp)\n",
    "ele = int(input(\"Enter the element you want to search: \"))\n",
    "flag=0\n",
    "for i in range(len(a)):\n",
    "    if(a[i] == ele):\n",
    "        print(\"Element found at position: \", i)\n",
    "        flag=1;\n",
    "        break\n",
    "if(flag == 0):\n",
    "    print(\"Element not found\")"
   ]
  },
  {
   "cell_type": "code",
   "execution_count": null,
   "metadata": {},
   "outputs": [],
   "source": [
    "#Binary Search"
   ]
  },
  {
   "cell_type": "code",
   "execution_count": 11,
   "metadata": {},
   "outputs": [
    {
     "name": "stdout",
     "output_type": "stream",
     "text": [
      "Enter size of array: 5\n",
      "1\n",
      "2\n",
      "3\n",
      "4\n",
      "5\n",
      "Enter the element you want to search: 4\n",
      "Element at position:  3\n"
     ]
    }
   ],
   "source": [
    "n = int(input(\"Enter size of array: \"))\n",
    "a=[]\n",
    "for i in range(n):\n",
    "    temp = int(input())\n",
    "    a.append(temp)\n",
    "ele = int(input(\"Enter the element you want to search: \"))\n",
    "beg = 0\n",
    "last = len(a) - 1\n",
    "flag=0\n",
    "while(beg <= last):\n",
    "    mid = (beg + last)//2\n",
    "    if(ele > a[mid]):\n",
    "        beg = mid + 1\n",
    "    if(ele < a[mid]):\n",
    "        last = mid - 1\n",
    "    if(ele == a[mid]):\n",
    "        print(\"Element at position: \",mid)\n",
    "        flag = 1\n",
    "        break\n",
    "if(flag==0):\n",
    "    print(\"Element not found\")\n",
    "    "
   ]
  },
  {
   "cell_type": "code",
   "execution_count": null,
   "metadata": {},
   "outputs": [],
   "source": [
    "#Kruskals Algorithm"
   ]
  },
  {
   "cell_type": "code",
   "execution_count": null,
   "metadata": {},
   "outputs": [],
   "source": [
    "X = dict()\n",
    "R = dict()\n",
    "\n",
    "def make_set(point):\n",
    "    X[point] = point\n",
    "    R[point] = 0\n",
    "def find(point):\n",
    "    if X[point] != point:\n",
    "        X[point] = find(X[point])\n",
    "    return X[point]\n",
    "def merge(point1, point2):\n",
    "    r1 = find(point1)\n",
    "    r2 = find(point2)\n",
    "    if r1 != r2:\n",
    "        if R[r1] > R[r2]:\n",
    "            X[r2] = r1\n",
    "        else:\n",
    "            X[r1] = r2\n",
    "            if R[r1] == R[r2]:\n",
    "                R[r2] += 1\n",
    "def kruskal(vertices,edges):\n",
    "    for vertice in vertices:\n",
    "        make_set(vertice)\n",
    "    minu_tree = []\n",
    "    edges.sort()\n",
    "    for edge in edges:\n",
    "        weight, vertice1, vertice2 = edge\n",
    "        if find(vertice1) != find(vertice2):\n",
    "            merge(vertice1, vertice2)\n",
    "            minu_tree.append(edge)\n",
    "    return minu_tree\n",
    "\n",
    "\n",
    "\n",
    "vertices = []\n",
    "v_size = int(input(\"Enter no. of vertices: \"))\n",
    "print(\"enter vertices as a single letter only\")\n",
    "for i in range(v_size):\n",
    "    a=input()\n",
    "    vertices.append(a)\n",
    "e_size = int(input(\"Enter no. of edges: \"))\n",
    "edges = []\n",
    "for i in range(e_size):\n",
    "    w,s,e = [int(w) for w in input().split()] \n",
    "    edges.append(w,s,e)\n",
    "print(kruskal(vertices,edges))"
   ]
  },
  {
   "cell_type": "code",
   "execution_count": null,
   "metadata": {},
   "outputs": [],
   "source": [
    "#Prim's Algorithm"
   ]
  },
  {
   "cell_type": "code",
   "execution_count": null,
   "metadata": {},
   "outputs": [],
   "source": [
    "INF = 9999999\n",
    "no_edge = 0\n",
    "selected[0] = True\n",
    "\n",
    "V = int(input(\"Enter No of Vertices: \"))\n",
    "g = [[0]*V]*V\n",
    "E = int(input(\"Enter No of Edges: \"))\n",
    "for i in range(E):\n",
    "    x,y,z = [int(x) for x in input().split()]\n",
    "    g[x-1][y-1] = z\n",
    "    \n",
    "selected = [0]*V\n",
    "\n",
    "print(\"Edge : Weight\\n\")\n",
    "while (no_edge < V - 1):\n",
    "    minimum = INF\n",
    "    x = 0\n",
    "    y = 0\n",
    "    for i in range(V):\n",
    "        if selected[i]:\n",
    "            for j in range(V):\n",
    "                if ((not selected[j]) and G[i][j]):  \n",
    "                    if minimum > G[i][j]:\n",
    "                        minimum = G[i][j]\n",
    "                        x = i\n",
    "                        y = j\n",
    "    print(str(x) + \"-\" + str(y) + \":\" + str(G[x][y]))\n",
    "    selected[y] = True\n",
    "    no_edge += 1"
   ]
  },
  {
   "cell_type": "code",
   "execution_count": null,
   "metadata": {},
   "outputs": [],
   "source": []
  }
 ],
 "metadata": {
  "kernelspec": {
   "display_name": "Python 3",
   "language": "python",
   "name": "python3"
  },
  "language_info": {
   "codemirror_mode": {
    "name": "ipython",
    "version": 3
   },
   "file_extension": ".py",
   "mimetype": "text/x-python",
   "name": "python",
   "nbconvert_exporter": "python",
   "pygments_lexer": "ipython3",
   "version": "3.8.5"
  }
 },
 "nbformat": 4,
 "nbformat_minor": 4
}
